{
  "nbformat": 4,
  "nbformat_minor": 0,
  "metadata": {
    "colab": {
      "provenance": [],
      "authorship_tag": "ABX9TyOXWS+3T6uXEVCJNvmfzeUj",
      "include_colab_link": true
    },
    "kernelspec": {
      "name": "python3",
      "display_name": "Python 3"
    },
    "language_info": {
      "name": "python"
    }
  },
  "cells": [
    {
      "cell_type": "markdown",
      "metadata": {
        "id": "view-in-github",
        "colab_type": "text"
      },
      "source": [
        "<a href=\"https://colab.research.google.com/github/siam-000/1.-python-start/blob/main/Calculate_Mclaurin_series.ipynb\" target=\"_parent\"><img src=\"https://colab.research.google.com/assets/colab-badge.svg\" alt=\"Open In Colab\"/></a>"
      ]
    },
    {
      "cell_type": "code",
      "source": [
        "import pandas as pd\n",
        "from math import e, factorial\n",
        "import numpy as np\n",
        "\n",
        "fac = np.vectorize(factorial)\n",
        "\n",
        "def e_x(x, terms):\n",
        "    \"\"\"Approximates e^x using a given number of terms of\n",
        "    the Maclaurin series.\n",
        "    \"\"\"\n",
        "    n = np.arange(terms)\n",
        "    return np.sum((x ** n) / fac(n))\n",
        "\n",
        "input_df = pd.read_csv('/content/csvTest1.csv')\n",
        "results = []\n",
        "\n",
        "for index, row in input_df.iterrows():\n",
        "    x = row['x']\n",
        "    trems = int(row['trems'])\n",
        "\n",
        "    maclaurin_sum = e_x(x, terms)\n",
        "    actual_value = e ** x\n",
        "    error = actual_value - maclaurin_sum\n",
        "    results.append({\n",
        "        'x': x,\n",
        "        'trems': trems,\n",
        "        'Maclaurin Sum': maclaurin_sum,\n",
        "        'Actual Value': actual_value,\n",
        "        'Error': error\n",
        "    })\n",
        "\n",
        "output_df = pd.DataFrame(results)\n",
        "output_df.to_csv('output.csv', index=False)\n",
        "\n",
        "print(\"Calculation complete. Results saved to output.csv.\")"
      ],
      "metadata": {
        "colab": {
          "base_uri": "https://localhost:8080/"
        },
        "id": "8N0sRJTSPJUu",
        "outputId": "ef770076-cd65-4876-aac5-4dd771302514"
      },
      "execution_count": 10,
      "outputs": [
        {
          "output_type": "stream",
          "name": "stdout",
          "text": [
            "Calculation complete. Results saved to output.csv.\n"
          ]
        }
      ]
    }
  ]
}